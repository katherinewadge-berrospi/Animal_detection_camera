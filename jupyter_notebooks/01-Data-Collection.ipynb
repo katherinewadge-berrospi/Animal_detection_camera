{
  "cells": [
    {
      "cell_type": "markdown",
      "metadata": {
        "id": "0aStgWSO0E0E"
      },
      "source": [
        "# **Data Collection**\n",
        "---"
      ]
    },
    {
      "cell_type": "markdown",
      "metadata": {
        "id": "1eLEkw5O0ECa"
      },
      "source": [
        "## Objectives\n",
        "\n",
        "* Fetch the animal species dataset from Kaggle and prepare it for further processing.  \n",
        "* Organize image data into a clean structure suitable for training machine learning models.  \n",
        "* Split the dataset into training, validation, and testing subsets.\n",
        "\n",
        "## Inputs\n",
        "\n",
        "* Kaggle JSON file – authentication token for accessing the dataset.  \n",
        "* Kaggle dataset: Animal Images (multi-species).  \n",
        "\n",
        "## Outputs\n",
        "\n",
        "* Generated dataset located at: `inputs/datasets/animals/image/`  \n",
        "  - Includes subfolders for each animal class.  \n",
        "  - After preparation, split into `train/`, `validation/`, and `test/` sets.  \n",
        "\n",
        "## Additional Comments | Insights | Conclusions\n",
        "\n",
        "* The dataset is large (>5 GB). To save disk space, files are **moved** (not copied) into train/validation/test splits.  \n",
        "* Original dataset folders may be removed once splitting is complete.  \n"
      ]
    },
    {
      "cell_type": "markdown",
      "metadata": {
        "id": "9uWZXH9LwoQg"
      },
      "source": [
        "---"
      ]
    },
    {
      "cell_type": "markdown",
      "metadata": {
        "id": "cqP-UeN-z3i2"
      },
      "source": [
        "## Import Packages"
      ]
    },
    {
      "cell_type": "code",
      "execution_count": 28,
      "metadata": {},
      "outputs": [
        {
          "name": "stdout",
          "output_type": "stream",
          "text": [
            "Requirement already satisfied: numpy==1.26.1 in /home/cistudent/.local/lib/python3.12/site-packages (from -r /workspaces/Animal_detection_camera/requirements.txt (line 1)) (1.26.1)\n",
            "Requirement already satisfied: pandas==2.1.1 in /home/cistudent/.local/lib/python3.12/site-packages (from -r /workspaces/Animal_detection_camera/requirements.txt (line 2)) (2.1.1)\n",
            "Requirement already satisfied: matplotlib==3.8.0 in /home/cistudent/.local/lib/python3.12/site-packages (from -r /workspaces/Animal_detection_camera/requirements.txt (line 3)) (3.8.0)\n",
            "Requirement already satisfied: seaborn==0.13.2 in /home/cistudent/.local/lib/python3.12/site-packages (from -r /workspaces/Animal_detection_camera/requirements.txt (line 4)) (0.13.2)\n",
            "Requirement already satisfied: plotly==5.17.0 in /home/cistudent/.local/lib/python3.12/site-packages (from -r /workspaces/Animal_detection_camera/requirements.txt (line 5)) (5.17.0)\n",
            "Requirement already satisfied: Pillow==10.0.1 in /home/cistudent/.local/lib/python3.12/site-packages (from -r /workspaces/Animal_detection_camera/requirements.txt (line 6)) (10.0.1)\n",
            "Requirement already satisfied: streamlit==1.40.2 in /home/cistudent/.local/lib/python3.12/site-packages (from -r /workspaces/Animal_detection_camera/requirements.txt (line 7)) (1.40.2)\n",
            "Requirement already satisfied: joblib==1.4.2 in /home/cistudent/.local/lib/python3.12/site-packages (from -r /workspaces/Animal_detection_camera/requirements.txt (line 8)) (1.4.2)\n",
            "Requirement already satisfied: scikit-learn==1.3.1 in /home/cistudent/.local/lib/python3.12/site-packages (from -r /workspaces/Animal_detection_camera/requirements.txt (line 9)) (1.3.1)\n",
            "Requirement already satisfied: tensorflow-cpu==2.16.1 in /home/cistudent/.local/lib/python3.12/site-packages (from -r /workspaces/Animal_detection_camera/requirements.txt (line 10)) (2.16.1)\n",
            "Requirement already satisfied: keras>=3.0.0 in /home/cistudent/.local/lib/python3.12/site-packages (from -r /workspaces/Animal_detection_camera/requirements.txt (line 11)) (3.11.3)\n",
            "Requirement already satisfied: python-dateutil>=2.8.2 in /home/cistudent/.pyenv/versions/3.12.1/lib/python3.12/site-packages (from pandas==2.1.1->-r /workspaces/Animal_detection_camera/requirements.txt (line 2)) (2.9.0.post0)\n",
            "Requirement already satisfied: pytz>=2020.1 in /home/cistudent/.local/lib/python3.12/site-packages (from pandas==2.1.1->-r /workspaces/Animal_detection_camera/requirements.txt (line 2)) (2025.2)\n",
            "Requirement already satisfied: tzdata>=2022.1 in /home/cistudent/.local/lib/python3.12/site-packages (from pandas==2.1.1->-r /workspaces/Animal_detection_camera/requirements.txt (line 2)) (2025.2)\n",
            "Requirement already satisfied: contourpy>=1.0.1 in /home/cistudent/.local/lib/python3.12/site-packages (from matplotlib==3.8.0->-r /workspaces/Animal_detection_camera/requirements.txt (line 3)) (1.3.3)\n",
            "Requirement already satisfied: cycler>=0.10 in /home/cistudent/.local/lib/python3.12/site-packages (from matplotlib==3.8.0->-r /workspaces/Animal_detection_camera/requirements.txt (line 3)) (0.12.1)\n",
            "Requirement already satisfied: fonttools>=4.22.0 in /home/cistudent/.local/lib/python3.12/site-packages (from matplotlib==3.8.0->-r /workspaces/Animal_detection_camera/requirements.txt (line 3)) (4.60.0)\n",
            "Requirement already satisfied: kiwisolver>=1.0.1 in /home/cistudent/.local/lib/python3.12/site-packages (from matplotlib==3.8.0->-r /workspaces/Animal_detection_camera/requirements.txt (line 3)) (1.4.9)\n",
            "Requirement already satisfied: packaging>=20.0 in /home/cistudent/.pyenv/versions/3.12.1/lib/python3.12/site-packages (from matplotlib==3.8.0->-r /workspaces/Animal_detection_camera/requirements.txt (line 3)) (24.2)\n",
            "Requirement already satisfied: pyparsing>=2.3.1 in /home/cistudent/.local/lib/python3.12/site-packages (from matplotlib==3.8.0->-r /workspaces/Animal_detection_camera/requirements.txt (line 3)) (3.2.4)\n",
            "Requirement already satisfied: tenacity>=6.2.0 in /home/cistudent/.local/lib/python3.12/site-packages (from plotly==5.17.0->-r /workspaces/Animal_detection_camera/requirements.txt (line 5)) (9.1.2)\n",
            "Requirement already satisfied: altair<6,>=4.0 in /home/cistudent/.local/lib/python3.12/site-packages (from streamlit==1.40.2->-r /workspaces/Animal_detection_camera/requirements.txt (line 7)) (5.5.0)\n",
            "Requirement already satisfied: blinker<2,>=1.0.0 in /home/cistudent/.local/lib/python3.12/site-packages (from streamlit==1.40.2->-r /workspaces/Animal_detection_camera/requirements.txt (line 7)) (1.9.0)\n",
            "Requirement already satisfied: cachetools<6,>=4.0 in /home/cistudent/.local/lib/python3.12/site-packages (from streamlit==1.40.2->-r /workspaces/Animal_detection_camera/requirements.txt (line 7)) (5.5.2)\n",
            "Requirement already satisfied: click<9,>=7.0 in /home/cistudent/.local/lib/python3.12/site-packages (from streamlit==1.40.2->-r /workspaces/Animal_detection_camera/requirements.txt (line 7)) (8.3.0)\n",
            "Requirement already satisfied: protobuf<6,>=3.20 in /home/cistudent/.local/lib/python3.12/site-packages (from streamlit==1.40.2->-r /workspaces/Animal_detection_camera/requirements.txt (line 7)) (4.25.8)\n",
            "Requirement already satisfied: pyarrow>=7.0 in /home/cistudent/.local/lib/python3.12/site-packages (from streamlit==1.40.2->-r /workspaces/Animal_detection_camera/requirements.txt (line 7)) (21.0.0)\n",
            "Requirement already satisfied: requests<3,>=2.27 in /home/cistudent/.pyenv/versions/3.12.1/lib/python3.12/site-packages (from streamlit==1.40.2->-r /workspaces/Animal_detection_camera/requirements.txt (line 7)) (2.32.3)\n",
            "Requirement already satisfied: rich<14,>=10.14.0 in /home/cistudent/.pyenv/versions/3.12.1/lib/python3.12/site-packages (from streamlit==1.40.2->-r /workspaces/Animal_detection_camera/requirements.txt (line 7)) (13.9.4)\n",
            "Requirement already satisfied: toml<2,>=0.10.1 in /home/cistudent/.local/lib/python3.12/site-packages (from streamlit==1.40.2->-r /workspaces/Animal_detection_camera/requirements.txt (line 7)) (0.10.2)\n",
            "Requirement already satisfied: typing-extensions<5,>=4.3.0 in /home/cistudent/.pyenv/versions/3.12.1/lib/python3.12/site-packages (from streamlit==1.40.2->-r /workspaces/Animal_detection_camera/requirements.txt (line 7)) (4.12.2)\n",
            "Requirement already satisfied: watchdog<7,>=2.1.5 in /home/cistudent/.local/lib/python3.12/site-packages (from streamlit==1.40.2->-r /workspaces/Animal_detection_camera/requirements.txt (line 7)) (6.0.0)\n",
            "Requirement already satisfied: gitpython!=3.1.19,<4,>=3.0.7 in /home/cistudent/.local/lib/python3.12/site-packages (from streamlit==1.40.2->-r /workspaces/Animal_detection_camera/requirements.txt (line 7)) (3.1.45)\n",
            "Requirement already satisfied: pydeck<1,>=0.8.0b4 in /home/cistudent/.local/lib/python3.12/site-packages (from streamlit==1.40.2->-r /workspaces/Animal_detection_camera/requirements.txt (line 7)) (0.9.1)\n",
            "Requirement already satisfied: tornado<7,>=6.0.3 in /home/cistudent/.pyenv/versions/3.12.1/lib/python3.12/site-packages (from streamlit==1.40.2->-r /workspaces/Animal_detection_camera/requirements.txt (line 7)) (6.4.2)\n",
            "Requirement already satisfied: scipy>=1.5.0 in /home/cistudent/.local/lib/python3.12/site-packages (from scikit-learn==1.3.1->-r /workspaces/Animal_detection_camera/requirements.txt (line 9)) (1.16.2)\n",
            "Requirement already satisfied: threadpoolctl>=2.0.0 in /home/cistudent/.local/lib/python3.12/site-packages (from scikit-learn==1.3.1->-r /workspaces/Animal_detection_camera/requirements.txt (line 9)) (3.6.0)\n",
            "Requirement already satisfied: absl-py>=1.0.0 in /home/cistudent/.local/lib/python3.12/site-packages (from tensorflow-cpu==2.16.1->-r /workspaces/Animal_detection_camera/requirements.txt (line 10)) (2.3.1)\n",
            "Requirement already satisfied: astunparse>=1.6.0 in /home/cistudent/.local/lib/python3.12/site-packages (from tensorflow-cpu==2.16.1->-r /workspaces/Animal_detection_camera/requirements.txt (line 10)) (1.6.3)\n",
            "Requirement already satisfied: flatbuffers>=23.5.26 in /home/cistudent/.local/lib/python3.12/site-packages (from tensorflow-cpu==2.16.1->-r /workspaces/Animal_detection_camera/requirements.txt (line 10)) (25.2.10)\n",
            "Requirement already satisfied: gast!=0.5.0,!=0.5.1,!=0.5.2,>=0.2.1 in /home/cistudent/.local/lib/python3.12/site-packages (from tensorflow-cpu==2.16.1->-r /workspaces/Animal_detection_camera/requirements.txt (line 10)) (0.6.0)\n",
            "Requirement already satisfied: google-pasta>=0.1.1 in /home/cistudent/.local/lib/python3.12/site-packages (from tensorflow-cpu==2.16.1->-r /workspaces/Animal_detection_camera/requirements.txt (line 10)) (0.2.0)\n",
            "Requirement already satisfied: h5py>=3.10.0 in /home/cistudent/.local/lib/python3.12/site-packages (from tensorflow-cpu==2.16.1->-r /workspaces/Animal_detection_camera/requirements.txt (line 10)) (3.14.0)\n",
            "Requirement already satisfied: libclang>=13.0.0 in /home/cistudent/.local/lib/python3.12/site-packages (from tensorflow-cpu==2.16.1->-r /workspaces/Animal_detection_camera/requirements.txt (line 10)) (18.1.1)\n",
            "Requirement already satisfied: ml-dtypes~=0.3.1 in /home/cistudent/.local/lib/python3.12/site-packages (from tensorflow-cpu==2.16.1->-r /workspaces/Animal_detection_camera/requirements.txt (line 10)) (0.3.2)\n",
            "Requirement already satisfied: opt-einsum>=2.3.2 in /home/cistudent/.local/lib/python3.12/site-packages (from tensorflow-cpu==2.16.1->-r /workspaces/Animal_detection_camera/requirements.txt (line 10)) (3.4.0)\n",
            "Requirement already satisfied: setuptools in /home/cistudent/.pyenv/versions/3.12.1/lib/python3.12/site-packages (from tensorflow-cpu==2.16.1->-r /workspaces/Animal_detection_camera/requirements.txt (line 10)) (75.6.0)\n",
            "Requirement already satisfied: six>=1.12.0 in /home/cistudent/.pyenv/versions/3.12.1/lib/python3.12/site-packages (from tensorflow-cpu==2.16.1->-r /workspaces/Animal_detection_camera/requirements.txt (line 10)) (1.17.0)\n",
            "Requirement already satisfied: termcolor>=1.1.0 in /home/cistudent/.local/lib/python3.12/site-packages (from tensorflow-cpu==2.16.1->-r /workspaces/Animal_detection_camera/requirements.txt (line 10)) (3.1.0)\n",
            "Requirement already satisfied: wrapt>=1.11.0 in /home/cistudent/.local/lib/python3.12/site-packages (from tensorflow-cpu==2.16.1->-r /workspaces/Animal_detection_camera/requirements.txt (line 10)) (1.17.3)\n",
            "Requirement already satisfied: grpcio<2.0,>=1.24.3 in /home/cistudent/.local/lib/python3.12/site-packages (from tensorflow-cpu==2.16.1->-r /workspaces/Animal_detection_camera/requirements.txt (line 10)) (1.75.0)\n",
            "Requirement already satisfied: tensorboard<2.17,>=2.16 in /home/cistudent/.local/lib/python3.12/site-packages (from tensorflow-cpu==2.16.1->-r /workspaces/Animal_detection_camera/requirements.txt (line 10)) (2.16.2)\n",
            "Requirement already satisfied: namex in /home/cistudent/.local/lib/python3.12/site-packages (from keras>=3.0.0->-r /workspaces/Animal_detection_camera/requirements.txt (line 11)) (0.1.0)\n",
            "Requirement already satisfied: optree in /home/cistudent/.local/lib/python3.12/site-packages (from keras>=3.0.0->-r /workspaces/Animal_detection_camera/requirements.txt (line 11)) (0.17.0)\n",
            "Requirement already satisfied: jinja2 in /home/cistudent/.pyenv/versions/3.12.1/lib/python3.12/site-packages (from altair<6,>=4.0->streamlit==1.40.2->-r /workspaces/Animal_detection_camera/requirements.txt (line 7)) (3.1.4)\n",
            "Requirement already satisfied: jsonschema>=3.0 in /home/cistudent/.pyenv/versions/3.12.1/lib/python3.12/site-packages (from altair<6,>=4.0->streamlit==1.40.2->-r /workspaces/Animal_detection_camera/requirements.txt (line 7)) (4.23.0)\n",
            "Requirement already satisfied: narwhals>=1.14.2 in /home/cistudent/.local/lib/python3.12/site-packages (from altair<6,>=4.0->streamlit==1.40.2->-r /workspaces/Animal_detection_camera/requirements.txt (line 7)) (2.5.0)\n",
            "Requirement already satisfied: wheel<1.0,>=0.23.0 in /home/cistudent/.pyenv/versions/3.12.1/lib/python3.12/site-packages (from astunparse>=1.6.0->tensorflow-cpu==2.16.1->-r /workspaces/Animal_detection_camera/requirements.txt (line 10)) (0.45.1)\n",
            "Requirement already satisfied: gitdb<5,>=4.0.1 in /home/cistudent/.local/lib/python3.12/site-packages (from gitpython!=3.1.19,<4,>=3.0.7->streamlit==1.40.2->-r /workspaces/Animal_detection_camera/requirements.txt (line 7)) (4.0.12)\n",
            "Requirement already satisfied: charset-normalizer<4,>=2 in /home/cistudent/.pyenv/versions/3.12.1/lib/python3.12/site-packages (from requests<3,>=2.27->streamlit==1.40.2->-r /workspaces/Animal_detection_camera/requirements.txt (line 7)) (3.4.0)\n",
            "Requirement already satisfied: idna<4,>=2.5 in /home/cistudent/.pyenv/versions/3.12.1/lib/python3.12/site-packages (from requests<3,>=2.27->streamlit==1.40.2->-r /workspaces/Animal_detection_camera/requirements.txt (line 7)) (3.10)\n",
            "Requirement already satisfied: urllib3<3,>=1.21.1 in /home/cistudent/.pyenv/versions/3.12.1/lib/python3.12/site-packages (from requests<3,>=2.27->streamlit==1.40.2->-r /workspaces/Animal_detection_camera/requirements.txt (line 7)) (2.2.3)\n",
            "Requirement already satisfied: certifi>=2017.4.17 in /home/cistudent/.pyenv/versions/3.12.1/lib/python3.12/site-packages (from requests<3,>=2.27->streamlit==1.40.2->-r /workspaces/Animal_detection_camera/requirements.txt (line 7)) (2024.12.14)\n",
            "Requirement already satisfied: markdown-it-py>=2.2.0 in /home/cistudent/.pyenv/versions/3.12.1/lib/python3.12/site-packages (from rich<14,>=10.14.0->streamlit==1.40.2->-r /workspaces/Animal_detection_camera/requirements.txt (line 7)) (3.0.0)\n",
            "Requirement already satisfied: pygments<3.0.0,>=2.13.0 in /home/cistudent/.pyenv/versions/3.12.1/lib/python3.12/site-packages (from rich<14,>=10.14.0->streamlit==1.40.2->-r /workspaces/Animal_detection_camera/requirements.txt (line 7)) (2.18.0)\n",
            "Requirement already satisfied: markdown>=2.6.8 in /home/cistudent/.local/lib/python3.12/site-packages (from tensorboard<2.17,>=2.16->tensorflow-cpu==2.16.1->-r /workspaces/Animal_detection_camera/requirements.txt (line 10)) (3.9)\n",
            "Requirement already satisfied: tensorboard-data-server<0.8.0,>=0.7.0 in /home/cistudent/.local/lib/python3.12/site-packages (from tensorboard<2.17,>=2.16->tensorflow-cpu==2.16.1->-r /workspaces/Animal_detection_camera/requirements.txt (line 10)) (0.7.2)\n",
            "Requirement already satisfied: werkzeug>=1.0.1 in /home/cistudent/.local/lib/python3.12/site-packages (from tensorboard<2.17,>=2.16->tensorflow-cpu==2.16.1->-r /workspaces/Animal_detection_camera/requirements.txt (line 10)) (3.1.3)\n",
            "Requirement already satisfied: smmap<6,>=3.0.1 in /home/cistudent/.local/lib/python3.12/site-packages (from gitdb<5,>=4.0.1->gitpython!=3.1.19,<4,>=3.0.7->streamlit==1.40.2->-r /workspaces/Animal_detection_camera/requirements.txt (line 7)) (5.0.2)\n",
            "Requirement already satisfied: MarkupSafe>=2.0 in /home/cistudent/.pyenv/versions/3.12.1/lib/python3.12/site-packages (from jinja2->altair<6,>=4.0->streamlit==1.40.2->-r /workspaces/Animal_detection_camera/requirements.txt (line 7)) (3.0.2)\n",
            "Requirement already satisfied: attrs>=22.2.0 in /home/cistudent/.pyenv/versions/3.12.1/lib/python3.12/site-packages (from jsonschema>=3.0->altair<6,>=4.0->streamlit==1.40.2->-r /workspaces/Animal_detection_camera/requirements.txt (line 7)) (24.3.0)\n",
            "Requirement already satisfied: jsonschema-specifications>=2023.03.6 in /home/cistudent/.pyenv/versions/3.12.1/lib/python3.12/site-packages (from jsonschema>=3.0->altair<6,>=4.0->streamlit==1.40.2->-r /workspaces/Animal_detection_camera/requirements.txt (line 7)) (2024.10.1)\n",
            "Requirement already satisfied: referencing>=0.28.4 in /home/cistudent/.pyenv/versions/3.12.1/lib/python3.12/site-packages (from jsonschema>=3.0->altair<6,>=4.0->streamlit==1.40.2->-r /workspaces/Animal_detection_camera/requirements.txt (line 7)) (0.35.1)\n",
            "Requirement already satisfied: rpds-py>=0.7.1 in /home/cistudent/.pyenv/versions/3.12.1/lib/python3.12/site-packages (from jsonschema>=3.0->altair<6,>=4.0->streamlit==1.40.2->-r /workspaces/Animal_detection_camera/requirements.txt (line 7)) (0.22.3)\n",
            "Requirement already satisfied: mdurl~=0.1 in /home/cistudent/.pyenv/versions/3.12.1/lib/python3.12/site-packages (from markdown-it-py>=2.2.0->rich<14,>=10.14.0->streamlit==1.40.2->-r /workspaces/Animal_detection_camera/requirements.txt (line 7)) (0.1.2)\n",
            "\n",
            "\u001b[1m[\u001b[0m\u001b[34;49mnotice\u001b[0m\u001b[1;39;49m]\u001b[0m\u001b[39;49m A new release of pip is available: \u001b[0m\u001b[31;49m24.3.1\u001b[0m\u001b[39;49m -> \u001b[0m\u001b[32;49m25.2\u001b[0m\n",
            "\u001b[1m[\u001b[0m\u001b[34;49mnotice\u001b[0m\u001b[1;39;49m]\u001b[0m\u001b[39;49m To update, run: \u001b[0m\u001b[32;49mpip install --upgrade pip\u001b[0m\n",
            "Note: you may need to restart the kernel to use updated packages.\n"
          ]
        }
      ],
      "source": [
        "%pip install -r /workspaces/Animal_detection_camera/requirements.txt"
      ]
    },
    {
      "cell_type": "markdown",
      "metadata": {},
      "source": [
        "# Change working directory\n",
        "\n",
        "Access the current directory"
      ]
    },
    {
      "cell_type": "code",
      "execution_count": 29,
      "metadata": {
        "id": "wZfF_j-Bz3i4",
        "outputId": "66943449-1436-4c3d-85c7-b85f9f78349b"
      },
      "outputs": [
        {
          "data": {
            "text/plain": [
              "'/workspaces/Animal_detection_camera'"
            ]
          },
          "execution_count": 29,
          "metadata": {},
          "output_type": "execute_result"
        }
      ],
      "source": [
        "import os\n",
        "current_dir = os.getcwd()\n",
        "current_dir"
      ]
    },
    {
      "cell_type": "markdown",
      "metadata": {
        "id": "9MWW8E7lz3i7"
      },
      "source": [
        "Set a new directory"
      ]
    },
    {
      "cell_type": "code",
      "execution_count": 30,
      "metadata": {
        "id": "TwHsQRWjz3i9",
        "outputId": "86849db3-cd2f-4cc5-ebb8-2d0caafa1a2c"
      },
      "outputs": [
        {
          "name": "stdout",
          "output_type": "stream",
          "text": [
            "You set a new current directory\n"
          ]
        }
      ],
      "source": [
        "os.chdir('/workspaces/Animal_detection_camera')\n",
        "print(\"You set a new current directory\")"
      ]
    },
    {
      "cell_type": "markdown",
      "metadata": {
        "id": "M_xPk_Ijz3i-"
      },
      "source": [
        "Confirm the new current directory"
      ]
    },
    {
      "cell_type": "code",
      "execution_count": 31,
      "metadata": {
        "id": "vz3S-_kjz3jA",
        "outputId": "00b79ae4-75d0-4a96-d193-ac9ef9847ea2"
      },
      "outputs": [
        {
          "data": {
            "text/plain": [
              "'/workspaces/Animal_detection_camera'"
            ]
          },
          "execution_count": 31,
          "metadata": {},
          "output_type": "execute_result"
        }
      ],
      "source": [
        "current_dir = os.getcwd()\n",
        "current_dir"
      ]
    },
    {
      "cell_type": "markdown",
      "metadata": {
        "id": "-mavJ8DibrcQ"
      },
      "source": [
        "# Install Kaggle"
      ]
    },
    {
      "cell_type": "code",
      "execution_count": 32,
      "metadata": {},
      "outputs": [
        {
          "name": "stdout",
          "output_type": "stream",
          "text": [
            "Requirement already satisfied: kaggle==1.5.12 in /home/cistudent/.local/lib/python3.12/site-packages (1.5.12)\n",
            "Requirement already satisfied: six>=1.10 in /home/cistudent/.pyenv/versions/3.12.1/lib/python3.12/site-packages (from kaggle==1.5.12) (1.17.0)\n",
            "Requirement already satisfied: certifi in /home/cistudent/.pyenv/versions/3.12.1/lib/python3.12/site-packages (from kaggle==1.5.12) (2024.12.14)\n",
            "Requirement already satisfied: python-dateutil in /home/cistudent/.pyenv/versions/3.12.1/lib/python3.12/site-packages (from kaggle==1.5.12) (2.9.0.post0)\n",
            "Requirement already satisfied: requests in /home/cistudent/.pyenv/versions/3.12.1/lib/python3.12/site-packages (from kaggle==1.5.12) (2.32.3)\n",
            "Requirement already satisfied: tqdm in /home/cistudent/.local/lib/python3.12/site-packages (from kaggle==1.5.12) (4.67.1)\n",
            "Requirement already satisfied: python-slugify in /home/cistudent/.local/lib/python3.12/site-packages (from kaggle==1.5.12) (8.0.4)\n",
            "Requirement already satisfied: urllib3 in /home/cistudent/.pyenv/versions/3.12.1/lib/python3.12/site-packages (from kaggle==1.5.12) (2.2.3)\n",
            "Requirement already satisfied: text-unidecode>=1.3 in /home/cistudent/.local/lib/python3.12/site-packages (from python-slugify->kaggle==1.5.12) (1.3)\n",
            "Requirement already satisfied: charset-normalizer<4,>=2 in /home/cistudent/.pyenv/versions/3.12.1/lib/python3.12/site-packages (from requests->kaggle==1.5.12) (3.4.0)\n",
            "Requirement already satisfied: idna<4,>=2.5 in /home/cistudent/.pyenv/versions/3.12.1/lib/python3.12/site-packages (from requests->kaggle==1.5.12) (3.10)\n",
            "\n",
            "\u001b[1m[\u001b[0m\u001b[34;49mnotice\u001b[0m\u001b[1;39;49m]\u001b[0m\u001b[39;49m A new release of pip is available: \u001b[0m\u001b[31;49m24.3.1\u001b[0m\u001b[39;49m -> \u001b[0m\u001b[32;49m25.2\u001b[0m\n",
            "\u001b[1m[\u001b[0m\u001b[34;49mnotice\u001b[0m\u001b[1;39;49m]\u001b[0m\u001b[39;49m To update, run: \u001b[0m\u001b[32;49mpip install --upgrade pip\u001b[0m\n",
            "Note: you may need to restart the kernel to use updated packages.\n"
          ]
        }
      ],
      "source": [
        "%pip install kaggle==1.5.12"
      ]
    },
    {
      "cell_type": "markdown",
      "metadata": {},
      "source": [
        "Change the Kaggle configuration directory to the current working directory and set permissions for the Kaggle authentication JSON."
      ]
    },
    {
      "cell_type": "code",
      "execution_count": 33,
      "metadata": {},
      "outputs": [],
      "source": [
        "os.environ['KAGGLE_CONFIG_DIR'] = os.getcwd()\n",
        "! chmod 600 kaggle.json"
      ]
    },
    {
      "cell_type": "markdown",
      "metadata": {},
      "source": [
        "Set the Kaggle Dataset and download it. Then, unzip image files and delete the zip file."
      ]
    },
    {
      "cell_type": "code",
      "execution_count": 34,
      "metadata": {},
      "outputs": [
        {
          "name": "stdout",
          "output_type": "stream",
          "text": [
            "Downloading image-classification-64-classes-animal.zip to inputs/animals\n",
            "100%|█████████████████████████████████████▉| 5.71G/5.71G [03:20<00:00, 32.1MB/s]\n",
            "100%|██████████████████████████████████████| 5.71G/5.71G [03:20<00:00, 30.5MB/s]\n",
            "✅ Extracted dataset to: inputs/datasets/animals\n"
          ]
        }
      ],
      "source": [
        "import os\n",
        "import zipfile\n",
        "\n",
        "KaggleDatasetPath = \"anthonytherrien/image-classification-64-classes-animal\"\n",
        "ZipFolder = \"inputs/animals\"\n",
        "DestinationFolder = \"inputs/datasets/animals\"\n",
        "\n",
        "# Download the dataset zip\n",
        "!kaggle datasets download -d {KaggleDatasetPath} -p {ZipFolder}\n",
        "zip_path = os.path.join(ZipFolder, \"image-classification-64-classes-animal.zip\")\n",
        "\n",
        "os.makedirs(DestinationFolder, exist_ok=True)\n",
        "\n",
        "# Unzip only if destination is empty\n",
        "if not os.listdir(DestinationFolder):\n",
        "    with zipfile.ZipFile(zip_path, \"r\") as zip_ref:\n",
        "        zip_ref.extractall(DestinationFolder)\n",
        "    print(f\"✅ Extracted dataset to: {DestinationFolder}\")\n",
        "    # delete zip after extraction\n",
        "    os.remove(zip_path)\n",
        "else:\n",
        "    print(f\"📂 Dataset already available at: {DestinationFolder}\")\n"
      ]
    },
    {
      "cell_type": "markdown",
      "metadata": {
        "id": "ZY3l0-AxO93d"
      },
      "source": [
        "---"
      ]
    },
    {
      "cell_type": "markdown",
      "metadata": {
        "id": "uFQo3ycuO-v6"
      },
      "source": [
        "# Data Preparation\n",
        "---"
      ]
    },
    {
      "cell_type": "markdown",
      "metadata": {},
      "source": [
        "## Data Cleaning"
      ]
    },
    {
      "cell_type": "markdown",
      "metadata": {},
      "source": [
        "### Check and remove any non-image files"
      ]
    },
    {
      "cell_type": "code",
      "execution_count": 38,
      "metadata": {},
      "outputs": [
        {
          "name": "stdout",
          "output_type": "stream",
          "text": [
            "Folder: lemur - has image file 216\n",
            "Folder: lemur - has non-image file 0\n",
            "Folder: snake - has image file 216\n",
            "Folder: snake - has non-image file 0\n",
            "Folder: elephant - has image file 288\n",
            "Folder: elephant - has non-image file 0\n",
            "Folder: frog - has image file 312\n",
            "Folder: frog - has non-image file 0\n",
            "Folder: chimpanzee - has image file 216\n",
            "Folder: chimpanzee - has non-image file 0\n",
            "Folder: chinchilla - has image file 216\n",
            "Folder: chinchilla - has non-image file 0\n",
            "Folder: flamingo - has image file 216\n",
            "Folder: flamingo - has non-image file 0\n",
            "Folder: mongoose - has image file 216\n",
            "Folder: mongoose - has non-image file 0\n",
            "Folder: ostrich - has image file 216\n",
            "Folder: ostrich - has non-image file 0\n",
            "Folder: ferret - has image file 216\n",
            "Folder: ferret - has non-image file 0\n",
            "Folder: camel - has image file 216\n",
            "Folder: camel - has non-image file 0\n",
            "Folder: bee - has image file 216\n",
            "Folder: bee - has non-image file 0\n",
            "Folder: mole - has image file 176\n",
            "Folder: mole - has non-image file 0\n",
            "Folder: penguin - has image file 216\n",
            "Folder: penguin - has non-image file 0\n",
            "Folder: leopard - has image file 216\n",
            "Folder: leopard - has non-image file 0\n",
            "Folder: hawk - has image file 216\n",
            "Folder: hawk - has non-image file 0\n",
            "Folder: hedgehog - has image file 216\n",
            "Folder: hedgehog - has non-image file 0\n",
            "Folder: walrus - has image file 216\n",
            "Folder: walrus - has non-image file 0\n",
            "Folder: falcon - has image file 216\n",
            "Folder: falcon - has non-image file 0\n",
            "Folder: grasshopper - has image file 216\n",
            "Folder: grasshopper - has non-image file 0\n",
            "Folder: beaver - has image file 216\n",
            "Folder: beaver - has non-image file 0\n",
            "Folder: antelope - has image file 216\n",
            "Folder: antelope - has non-image file 0\n",
            "Folder: giraffe - has image file 216\n",
            "Folder: giraffe - has non-image file 0\n",
            "Folder: duck - has image file 216\n",
            "Folder: duck - has non-image file 0\n",
            "Folder: lizard - has image file 216\n",
            "Folder: lizard - has non-image file 0\n",
            "Folder: crab - has image file 216\n",
            "Folder: crab - has non-image file 0\n",
            "Folder: goose - has image file 216\n",
            "Folder: goose - has non-image file 0\n",
            "Folder: gorilla - has image file 216\n",
            "Folder: gorilla - has non-image file 0\n",
            "Folder: jaguar - has image file 186\n",
            "Folder: jaguar - has non-image file 0\n",
            "Folder: sheep - has image file 216\n",
            "Folder: sheep - has non-image file 0\n",
            "Folder: lynx - has image file 216\n",
            "Folder: lynx - has non-image file 0\n",
            "Folder: butterfly - has image file 216\n",
            "Folder: butterfly - has non-image file 0\n",
            "Folder: panda - has image file 216\n",
            "Folder: panda - has non-image file 0\n",
            "Folder: goat - has image file 216\n",
            "Folder: goat - has non-image file 0\n",
            "Folder: deer - has image file 216\n",
            "Folder: deer - has non-image file 0\n",
            "Folder: peacock - has image file 216\n",
            "Folder: peacock - has non-image file 0\n",
            "Folder: dog - has image file 456\n",
            "Folder: dog - has non-image file 0\n",
            "Folder: whale - has image file 216\n",
            "Folder: whale - has non-image file 0\n",
            "Folder: kangaroo - has image file 216\n",
            "Folder: kangaroo - has non-image file 0\n",
            "Folder: seal - has image file 216\n",
            "Folder: seal - has non-image file 0\n",
            "Folder: cheetah - has image file 216\n",
            "Folder: cheetah - has non-image file 0\n",
            "Folder: cow - has image file 216\n",
            "Folder: cow - has non-image file 0\n",
            "Folder: iguana - has image file 216\n",
            "Folder: iguana - has non-image file 0\n",
            "Folder: hippopotamus - has image file 216\n",
            "Folder: hippopotamus - has non-image file 0\n",
            "Folder: fox - has image file 216\n",
            "Folder: fox - has non-image file 0\n",
            "Folder: cat - has image file 432\n",
            "Folder: cat - has non-image file 0\n",
            "Folder: donkey - has image file 216\n",
            "Folder: donkey - has non-image file 0\n",
            "Folder: raccoon - has image file 216\n",
            "Folder: raccoon - has non-image file 0\n",
            "Folder: blackbird - has image file 216\n",
            "Folder: blackbird - has non-image file 0\n",
            "Folder: buffalo - has image file 216\n",
            "Folder: buffalo - has non-image file 0\n",
            "Folder: koala - has image file 216\n",
            "Folder: koala - has non-image file 0\n",
            "Folder: crocodile - has image file 216\n",
            "Folder: crocodile - has non-image file 0\n",
            "Folder: dolphin - has image file 216\n",
            "Folder: dolphin - has non-image file 0\n",
            "Folder: hyena - has image file 216\n",
            "Folder: hyena - has non-image file 0\n",
            "Folder: porcupine - has image file 216\n",
            "Folder: porcupine - has non-image file 0\n",
            "Folder: bear - has image file 216\n",
            "Folder: bear - has non-image file 0\n",
            "Folder: squid - has image file 215\n",
            "Folder: squid - has non-image file 0\n",
            "Folder: spider - has image file 216\n",
            "Folder: spider - has non-image file 0\n",
            "Folder: eagle - has image file 216\n",
            "Folder: eagle - has non-image file 0\n",
            "Folder: bison - has image file 216\n",
            "Folder: bison - has non-image file 0\n",
            "Folder: owl - has image file 216\n",
            "Folder: owl - has non-image file 0\n",
            "Folder: otter - has image file 216\n",
            "Folder: otter - has non-image file 0\n",
            "Folder: snail - has image file 216\n",
            "Folder: snail - has non-image file 0\n",
            "Folder: wolf - has image file 216\n",
            "Folder: wolf - has non-image file 0\n"
          ]
        }
      ],
      "source": [
        "def remove_non_image_file(my_data_dir):\n",
        "    image_extension = ('.png', '.jpg', '.jpeg')\n",
        "    folders = os.listdir(my_data_dir)\n",
        "    for folder in folders:\n",
        "        files = os.listdir(my_data_dir + '/' + folder)\n",
        "        # print(files)\n",
        "        i = []\n",
        "        j = []\n",
        "        for given_file in files:\n",
        "            if not given_file.lower().endswith(image_extension):\n",
        "                file_location = my_data_dir + '/' + folder + '/' + given_file\n",
        "                os.remove(file_location)  # remove non image file\n",
        "                i.append(1)\n",
        "            else:\n",
        "                j.append(1)\n",
        "                pass\n",
        "        print(f\"Folder: {folder} - has image file\", len(j))\n",
        "        print(f\"Folder: {folder} - has non-image file\", len(i))\n",
        "\n",
        "remove_non_image_file(my_data_dir='inputs/datasets/animals/image')"
      ]
    },
    {
      "cell_type": "markdown",
      "metadata": {},
      "source": [
        "## Split Train Validation Test Set"
      ]
    },
    {
      "cell_type": "code",
      "execution_count": null,
      "metadata": {},
      "outputs": [],
      "source": [
        "import random\n",
        "import shutil\n",
        "\n",
        "\n",
        "def split_train_validation_test_images(my_data_dir, train_set_ratio, validation_set_ratio, test_set_ratio):\n",
        "\n",
        "    if train_set_ratio + validation_set_ratio + test_set_ratio != 1.0:\n",
        "        print(\"train_set_ratio + validation_set_ratio + test_set_ratio should sum to 1.0\")\n",
        "        return\n",
        "\n",
        "    # gets classes labels\n",
        "    labels = os.listdir(my_data_dir)  # it should get only the folder name\n",
        "    if 'test' in labels:\n",
        "        pass\n",
        "    else:\n",
        "        # create train, test folders with classes labels sub-folder\n",
        "        for folder in ['train', 'validation', 'test']:\n",
        "            for label in labels:\n",
        "                os.makedirs(name=my_data_dir + '/' + folder + '/' + label)\n",
        "\n",
        "        for label in labels:\n",
        "\n",
        "            files = os.listdir(my_data_dir + '/' + label)\n",
        "            random.shuffle(files)\n",
        "\n",
        "            train_set_files_qty = int(len(files) * train_set_ratio)\n",
        "            validation_set_files_qty = int(len(files) * validation_set_ratio)\n",
        "\n",
        "            count = 1\n",
        "            for file_name in files:\n",
        "                if count <= train_set_files_qty:\n",
        "                    # move a given file to the train set\n",
        "                    shutil.move(my_data_dir + '/' + label + '/' + file_name,\n",
        "                                my_data_dir + '/train/' + label + '/' + file_name)\n",
        "\n",
        "                elif count <= (train_set_files_qty + validation_set_files_qty):\n",
        "                    # move a given file to the validation set\n",
        "                    shutil.move(my_data_dir + '/' + label + '/' + file_name,\n",
        "                                my_data_dir + '/validation/' + label + '/' + file_name)\n",
        "\n",
        "                else:\n",
        "                    # move given file to test set\n",
        "                    shutil.move(my_data_dir + '/' + label + '/' + file_name,\n",
        "                                my_data_dir + '/test/' + label + '/' + file_name)\n",
        "\n",
        "                count += 1\n",
        "\n",
        "            os.rmdir(my_data_dir + '/' + label)"
      ]
    },
    {
      "cell_type": "markdown",
      "metadata": {},
      "source": [
        "The training set is divided into a 0.70 ratio of data.\n",
        "The validation set is divided into a 0.10 ratio of data.\n",
        "The test set is divided into a 0.20 ratio of data."
      ]
    },
    {
      "cell_type": "code",
      "execution_count": 41,
      "metadata": {},
      "outputs": [],
      "source": [
        "\n",
        "split_train_validation_test_images(\n",
        "    my_data_dir=\"inputs/datasets/animals/image\",\n",
        "    train_set_ratio=0.7,\n",
        "    validation_set_ratio=0.1,\n",
        "    test_set_ratio=0.2\n",
        ")"
      ]
    },
    {
      "cell_type": "markdown",
      "metadata": {},
      "source": [
        "Double check that the subfolders were created in the correct location."
      ]
    },
    {
      "cell_type": "code",
      "execution_count": 42,
      "metadata": {},
      "outputs": [
        {
          "name": "stdout",
          "output_type": "stream",
          "text": [
            "['image']\n",
            "['train', 'validation', 'test']\n"
          ]
        }
      ],
      "source": [
        "\n",
        "print(os.listdir(\"inputs/datasets/animals\"))\n",
        "print(os.listdir(\"inputs/datasets/animals/image\"))"
      ]
    },
    {
      "cell_type": "markdown",
      "metadata": {},
      "source": [
        "---"
      ]
    }
  ],
  "metadata": {
    "accelerator": "GPU",
    "colab": {
      "name": "Data Practitioner Jupyter Notebook.ipynb",
      "provenance": [],
      "toc_visible": true
    },
    "kernelspec": {
      "display_name": "3.12.1",
      "language": "python",
      "name": "python3"
    },
    "language_info": {
      "codemirror_mode": {
        "name": "ipython",
        "version": 3
      },
      "file_extension": ".py",
      "mimetype": "text/x-python",
      "name": "python",
      "nbconvert_exporter": "python",
      "pygments_lexer": "ipython3",
      "version": "3.12.1"
    },
    "orig_nbformat": 2
  },
  "nbformat": 4,
  "nbformat_minor": 2
}
