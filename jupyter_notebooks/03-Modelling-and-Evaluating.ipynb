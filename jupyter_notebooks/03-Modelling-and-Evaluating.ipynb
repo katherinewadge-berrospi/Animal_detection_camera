{
 "cells": [
  {
   "cell_type": "markdown",
   "id": "14a1c985",
   "metadata": {},
   "source": [
    "# **Data Modelling and Evaluating**\n",
    "---"
   ]
  },
  {
   "cell_type": "markdown",
   "id": "a7567c08",
   "metadata": {},
   "source": [
    "## Objectives\n",
    "\n",
    "* Answer business requirement 2: \n",
    "    * The client wants the system to identify which animal species is present in an image.\n",
    "\n",
    "\n",
    "## Inputs\n",
    "\n",
    "* inputs/datasets/animals/image/train/\n",
    "* inputs/datasets/animals/image/test/\n",
    "* inputs/datasets/animals/image/validation/\n",
    "* Image shape embeddings: outputs/v1/image_shape.pkl\n",
    "\n",
    "## Outputs\n",
    "\n",
    "* Images distribution plot in train, validation, and test set.\n",
    "* Image augmentation pipeline.\n",
    "* Class indices mapping.\n",
    "* Machine learning model creation and training.\n",
    "* Saved trained model.\n",
    "* Learning curve plots for model performance.\n",
    "* Model evaluation stored in pickle file.\n",
    "* Prediction on a random image file.\n",
    "\n",
    "\n",
    "## Additional Comments | Insights | Conclusions\n",
    "\n",
    "* N/A for now\n",
    "\n",
    "---"
   ]
  }
 ],
 "metadata": {
  "language_info": {
   "name": "python"
  }
 },
 "nbformat": 4,
 "nbformat_minor": 5
}
