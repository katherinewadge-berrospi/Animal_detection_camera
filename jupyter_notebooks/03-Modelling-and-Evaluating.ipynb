{
 "cells": [
  {
   "cell_type": "markdown",
   "id": "14a1c985",
   "metadata": {},
   "source": [
    "# **Data Modelling and Evaluating**\n",
    "---"
   ]
  },
  {
   "cell_type": "markdown",
   "id": "a7567c08",
   "metadata": {},
   "source": [
    "## Objectives\n",
    "\n",
    "* Answer business requirement 2: \n",
    "    * The client wants the system to identify which animal species is present in an image.\n",
    "\n",
    "\n",
    "## Inputs\n",
    "\n",
    "* inputs/datasets/animals/image/train/\n",
    "* inputs/datasets/animals/image/test/\n",
    "* inputs/datasets/animals/image/validation/\n",
    "* Image shape embeddings: outputs/v1/image_shape.pkl\n",
    "\n",
    "## Outputs\n",
    "\n",
    "* Images distribution plot in train, validation, and test set.\n",
    "* Image augmentation pipeline.\n",
    "* Class indices mapping.\n",
    "* Machine learning model creation and training.\n",
    "* Saved trained model.\n",
    "* Learning curve plots for model performance.\n",
    "* Model evaluation stored in pickle file.\n",
    "* Prediction on a random image file.\n",
    "\n",
    "\n",
    "## Additional Comments | Insights | Conclusions\n",
    "\n",
    "* N/A for now\n",
    "\n",
    "---"
   ]
  },
  {
   "cell_type": "markdown",
   "id": "cae03694",
   "metadata": {},
   "source": [
    "## Import Packages"
   ]
  },
  {
   "cell_type": "code",
   "execution_count": 1,
   "id": "38e0accc",
   "metadata": {},
   "outputs": [],
   "source": [
    "import os\n",
    "import pandas as pd\n",
    "import numpy as np\n",
    "import matplotlib.pyplot as plt\n",
    "import seaborn as sns\n",
    "from matplotlib.image import imread\n",
    "import joblib\n",
    "sns.set_style(\"white\")"
   ]
  },
  {
   "cell_type": "markdown",
   "id": "09f577ac",
   "metadata": {},
   "source": [
    "## Set Working Directory"
   ]
  },
  {
   "cell_type": "code",
   "execution_count": 2,
   "id": "5131690e",
   "metadata": {},
   "outputs": [
    {
     "name": "stdout",
     "output_type": "stream",
     "text": [
      "You set a new current directory\n"
     ]
    },
    {
     "data": {
      "text/plain": [
       "'/workspaces/Animal_detection_camera'"
      ]
     },
     "execution_count": 2,
     "metadata": {},
     "output_type": "execute_result"
    }
   ],
   "source": [
    "cwd = os.getcwd()\n",
    "os.chdir('/workspaces/Animal_detection_camera')\n",
    "print(\"You set a new current directory\")\n",
    "\n",
    "work_dir = os.getcwd()\n",
    "work_dir"
   ]
  },
  {
   "cell_type": "markdown",
   "id": "08be4ef0",
   "metadata": {},
   "source": [
    "## Set input directories\n",
    "Set train, validation and test paths"
   ]
  },
  {
   "cell_type": "code",
   "execution_count": 7,
   "id": "c181a1a7",
   "metadata": {},
   "outputs": [],
   "source": [
    "my_data_dir = 'inputs/datasets/animals/image'\n",
    "train_path = my_data_dir + '/train'\n",
    "val_path = my_data_dir + '/validation'\n",
    "test_path = my_data_dir + '/test'\n"
   ]
  },
  {
   "cell_type": "markdown",
   "id": "3fe0bff8",
   "metadata": {},
   "source": [
    "## Set output directory"
   ]
  },
  {
   "cell_type": "code",
   "execution_count": 8,
   "id": "24a83659",
   "metadata": {},
   "outputs": [
    {
     "name": "stdout",
     "output_type": "stream",
     "text": [
      "Old version is already available, create a new version.\n"
     ]
    }
   ],
   "source": [
    "version = 'v1'\n",
    "file_path = f'outputs/{version}'\n",
    "os.makedirs(file_path, exist_ok=True)\n",
    "\n",
    "if 'outputs' in os.listdir(work_dir) and version in os.listdir(work_dir + '/outputs'):\n",
    "    print('Old version is already available, create a new version.')\n",
    "else:\n",
    "    os.makedirs(name=file_path, exist_ok=True)"
   ]
  },
  {
   "cell_type": "markdown",
   "id": "938a6c92",
   "metadata": {},
   "source": [
    "## Set labels"
   ]
  },
  {
   "cell_type": "code",
   "execution_count": 10,
   "id": "451e3927",
   "metadata": {},
   "outputs": [
    {
     "name": "stdout",
     "output_type": "stream",
     "text": [
      "Project Labels: ['lemur', 'snake', 'elephant', 'frog', 'chimpanzee', 'chinchilla', 'flamingo', 'mongoose', 'ostrich', 'ferret', 'camel', 'bee', 'mole', 'penguin', 'leopard', 'hawk', 'hedgehog', 'walrus', 'falcon', 'grasshopper', 'beaver', 'antelope', 'giraffe', 'duck', 'lizard', 'crab', 'goose', 'gorilla', 'jaguar', 'sheep', 'lynx', 'butterfly', 'panda', 'goat', 'deer', 'peacock', 'dog', 'whale', 'kangaroo', 'seal', 'cheetah', 'cow', 'iguana', 'hippopotamus', 'fox', 'cat', 'donkey', 'raccoon', 'blackbird', 'buffalo', 'koala', 'crocodile', 'dolphin', 'hyena', 'porcupine', 'bear', 'squid', 'spider', 'eagle', 'bison', 'owl', 'otter', 'snail', 'wolf']\n"
     ]
    }
   ],
   "source": [
    "labels = os.listdir(train_path)\n",
    "\n",
    "print(\n",
    "    f\"Project Labels: {labels}\"\n",
    ")"
   ]
  }
 ],
 "metadata": {
  "kernelspec": {
   "display_name": "3.12.1",
   "language": "python",
   "name": "python3"
  },
  "language_info": {
   "codemirror_mode": {
    "name": "ipython",
    "version": 3
   },
   "file_extension": ".py",
   "mimetype": "text/x-python",
   "name": "python",
   "nbconvert_exporter": "python",
   "pygments_lexer": "ipython3",
   "version": "3.12.1"
  }
 },
 "nbformat": 4,
 "nbformat_minor": 5
}
