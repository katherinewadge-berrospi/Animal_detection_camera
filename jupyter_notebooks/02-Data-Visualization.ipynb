{
 "cells": [
  {
   "cell_type": "markdown",
   "id": "3bbf4b2d",
   "metadata": {},
   "source": [
    "# **Data Visualization**\n",
    "---"
   ]
  },
  {
   "cell_type": "markdown",
   "id": "73fa629d",
   "metadata": {},
   "source": [
    "## Objectives\n",
    "\n",
    "* Answer business requirement 1: \n",
    "    * The client is interested in visually differentiating animal species using image data.\n",
    "\n",
    "\n",
    "## Inputs\n",
    "\n",
    "* inputs/datasets/animals/image/train/\n",
    "* inputs/datasets/animals/image/test/\n",
    "* inputs/datasets/animals/image/validation/\n",
    "\n",
    "## Outputs\n",
    "\n",
    "* Image shape embeddings pickle file.\n",
    "* Plots showing mean and variability of images per species.\n",
    "* Plots highlighting differences between average species images.\n",
    "* Code to generate an image montage, which can later be reused in the Streamlit dashboard.\n",
    "\n",
    "\n",
    "## Additional Comments | Insights | Conclusions\n",
    "\n",
    "N/A for now\n",
    "\n",
    "---"
   ]
  },
  {
   "cell_type": "markdown",
   "id": "383555f7",
   "metadata": {},
   "source": [
    "## Set Data Directory\n",
    "---"
   ]
  },
  {
   "cell_type": "markdown",
   "id": "b48a7432",
   "metadata": {},
   "source": [
    "Import libraries"
   ]
  },
  {
   "cell_type": "code",
   "execution_count": 1,
   "id": "71b074fc",
   "metadata": {},
   "outputs": [],
   "source": [
    "import os\n",
    "import pandas as pd\n",
    "import numpy as np\n",
    "import matplotlib.pyplot as plt\n",
    "import seaborn as sns\n",
    "import joblib\n",
    "sns.set_style(\"white\")\n",
    "from matplotlib.image import imread"
   ]
  },
  {
   "cell_type": "markdown",
   "id": "a55d4c71",
   "metadata": {},
   "source": [
    "Set working directory"
   ]
  },
  {
   "cell_type": "code",
   "execution_count": 3,
   "id": "e95dbaf4",
   "metadata": {},
   "outputs": [
    {
     "name": "stdout",
     "output_type": "stream",
     "text": [
      "You set a new current directory\n"
     ]
    },
    {
     "data": {
      "text/plain": [
       "'/workspaces/Animal_detection_camera'"
      ]
     },
     "execution_count": 3,
     "metadata": {},
     "output_type": "execute_result"
    }
   ],
   "source": [
    "cwd = os.getcwd()\n",
    "os.chdir('/workspaces/Animal_detection_camera')\n",
    "print(\"You set a new current directory\")\n",
    "\n",
    "work_dir = os.getcwd()\n",
    "work_dir"
   ]
  },
  {
   "cell_type": "markdown",
   "id": "8a68ef19",
   "metadata": {},
   "source": [
    "### Set input directories\n",
    "* Set train, test, and validation paths."
   ]
  },
  {
   "cell_type": "code",
   "execution_count": 4,
   "id": "f257abb2",
   "metadata": {},
   "outputs": [],
   "source": [
    "my_data_dir = 'inputs/datasets/animals/image'\n",
    "train_path = my_data_dir + '/train'\n",
    "val_path = my_data_dir + '/validation'\n",
    "test_path = my_data_dir + '/test'"
   ]
  },
  {
   "cell_type": "markdown",
   "id": "a97ceabd",
   "metadata": {},
   "source": [
    "### Set output directory"
   ]
  },
  {
   "cell_type": "code",
   "execution_count": 5,
   "id": "fd597a5d",
   "metadata": {},
   "outputs": [],
   "source": [
    "version = 'v1'\n",
    "file_path = f'outputs/{version}'\n",
    "\n",
    "if 'outputs' in os.listdir(work_dir) and version in os.listdir(work_dir + '/outputs'):\n",
    "    print('Old version is already available, create a new version.')\n",
    "    pass\n",
    "else:\n",
    "    os.makedirs(name=file_path)\n"
   ]
  },
  {
   "cell_type": "markdown",
   "id": "63f21b5c",
   "metadata": {},
   "source": [
    "### Set Species labels"
   ]
  },
  {
   "cell_type": "code",
   "execution_count": 6,
   "id": "40de2b14",
   "metadata": {},
   "outputs": [
    {
     "name": "stdout",
     "output_type": "stream",
     "text": [
      "Labels for the images are: ['lemur', 'snake', 'elephant', 'frog', 'chimpanzee', 'chinchilla', 'flamingo', 'mongoose', 'ostrich', 'ferret', 'camel', 'bee', 'mole', 'penguin', 'leopard', 'hawk', 'hedgehog', 'walrus', 'falcon', 'grasshopper', 'beaver', 'antelope', 'giraffe', 'duck', 'lizard', 'crab', 'goose', 'gorilla', 'jaguar', 'sheep', 'lynx', 'butterfly', 'panda', 'goat', 'deer', 'peacock', 'dog', 'whale', 'kangaroo', 'seal', 'cheetah', 'cow', 'iguana', 'hippopotamus', 'fox', 'cat', 'donkey', 'raccoon', 'blackbird', 'buffalo', 'koala', 'crocodile', 'dolphin', 'hyena', 'porcupine', 'bear', 'squid', 'spider', 'eagle', 'bison', 'owl', 'otter', 'snail', 'wolf']\n"
     ]
    }
   ],
   "source": [
    "labels = os.listdir(train_path)\n",
    "print('Labels for the images are:', labels)"
   ]
  },
  {
   "cell_type": "markdown",
   "id": "51f45ce8",
   "metadata": {},
   "source": [
    "---"
   ]
  },
  {
   "cell_type": "markdown",
   "id": "a374567a",
   "metadata": {},
   "source": [
    "# Data Visualization of Image Data\n",
    "---"
   ]
  },
  {
   "cell_type": "markdown",
   "id": "f55c5361",
   "metadata": {},
   "source": [
    "## Image shape\n",
    "\n",
    "Compute average images images size on train set."
   ]
  },
  {
   "cell_type": "code",
   "execution_count": 7,
   "id": "77e1ac34",
   "metadata": {},
   "outputs": [
    {
     "data": {
      "image/png": "[encoded data removed]",
      "text/plain": [
       "<Figure size 640x480 with 1 Axes>"
      ]
     },
     "metadata": {},
     "output_type": "display_data"
    },
    {
     "name": "stdout",
     "output_type": "stream",
     "text": [
      "Width average: 512 \n",
      "Height average: 512\n"
     ]
    }
   ],
   "source": [
    "dim1, dim2 = [], []\n",
    "for label in labels:\n",
    "    for image_filename in os.listdir(train_path + '/' + label):\n",
    "        img = imread(train_path + '/' + label + '/' + image_filename)\n",
    "        d1, d2, colors = img.shape\n",
    "        dim1.append(d1)  # image height\n",
    "        dim2.append(d2)  # image width\n",
    "\n",
    "sns.set_style(\"whitegrid\")\n",
    "fig, axes = plt.subplots()\n",
    "sns.scatterplot(x=dim2, y=dim1, alpha=0.2)\n",
    "axes.set_xlabel(\"Width (pixels)\")\n",
    "axes.set_ylabel(\"Height (pixels)\")\n",
    "dim1_mean = int(np.array(dim1).mean())\n",
    "dim2_mean = int(np.array(dim2).mean())\n",
    "axes.axvline(x=dim1_mean, color='r', linestyle='--')\n",
    "axes.axhline(y=dim2_mean, color='r', linestyle='--')\n",
    "plt.show()\n",
    "print(f\"Width average: {dim2_mean} \\nHeight average: {dim1_mean}\")"
   ]
  },
  {
   "cell_type": "markdown",
   "id": "ecb1a5df",
   "metadata": {},
   "source": [
    "Set standard image shape as originals are too large"
   ]
  },
  {
   "cell_type": "code",
   "execution_count": 9,
   "id": "0123bb65",
   "metadata": {},
   "outputs": [
    {
     "name": "stdout",
     "output_type": "stream",
     "text": [
      "Image shape set to: (128, 128, 3)\n"
     ]
    }
   ],
   "source": [
    "image_shape = (128, 128, 3)\n",
    "print(\"Image shape set to:\", image_shape)"
   ]
  },
  {
   "cell_type": "markdown",
   "id": "38be78c5",
   "metadata": {},
   "source": [
    "Save image shape"
   ]
  },
  {
   "cell_type": "code",
   "execution_count": 10,
   "id": "e308d3f6",
   "metadata": {},
   "outputs": [
    {
     "data": {
      "text/plain": [
       "['outputs/v1/image_shape.pkl']"
      ]
     },
     "execution_count": 10,
     "metadata": {},
     "output_type": "execute_result"
    }
   ],
   "source": [
    "joblib.dump(value=image_shape,\n",
    "    filename=f\"{file_path}/image_shape.pkl\")"
   ]
  }
 ],
 "metadata": {
  "kernelspec": {
   "display_name": "3.12.1",
   "language": "python",
   "name": "python3"
  },
  "language_info": {
   "codemirror_mode": {
    "name": "ipython",
    "version": 3
   },
   "file_extension": ".py",
   "mimetype": "text/x-python",
   "name": "python",
   "nbconvert_exporter": "python",
   "pygments_lexer": "ipython3",
   "version": "3.12.1"
  }
 },
 "nbformat": 4,
 "nbformat_minor": 5
}
