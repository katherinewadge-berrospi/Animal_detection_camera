{
 "cells": [
  {
   "cell_type": "markdown",
   "id": "3bbf4b2d",
   "metadata": {},
   "source": [
    "# **Data Visualization**\n",
    "---"
   ]
  },
  {
   "cell_type": "markdown",
   "id": "73fa629d",
   "metadata": {},
   "source": [
    "## Objectives\n",
    "\n",
    "* Answer business requirement 1: \n",
    "    * The client is interested in visually differentiating animal species using image data.\n",
    "\n",
    "\n",
    "## Inputs\n",
    "\n",
    "* inputs/datasets/animals/image/train/\n",
    "* inputs/datasets/animals/image/test/\n",
    "* inputs/datasets/animals/image/validation/\n",
    "\n",
    "## Outputs\n",
    "\n",
    "* Image shape embeddings pickle file.\n",
    "* Plots showing mean and variability of images per species.\n",
    "* Plots highlighting differences between average species images.\n",
    "* Code to generate an image montage, which can later be reused in the Streamlit dashboard.\n",
    "\n",
    "\n",
    "## Additional Comments | Insights | Conclusions\n",
    "\n",
    "N/A for now\n",
    "\n",
    "---"
   ]
  },
  {
   "cell_type": "markdown",
   "id": "383555f7",
   "metadata": {},
   "source": [
    "## Set Data Directory\n",
    "---"
   ]
  },
  {
   "cell_type": "markdown",
   "id": "b48a7432",
   "metadata": {},
   "source": [
    "Import libraries"
   ]
  },
  {
   "cell_type": "code",
   "execution_count": 1,
   "id": "71b074fc",
   "metadata": {},
   "outputs": [],
   "source": [
    "import os\n",
    "import pandas as pd\n",
    "import numpy as np\n",
    "import matplotlib.pyplot as plt\n",
    "import seaborn as sns\n",
    "import joblib\n",
    "sns.set_style(\"white\")\n",
    "from matplotlib.image import imread"
   ]
  },
  {
   "cell_type": "markdown",
   "id": "a55d4c71",
   "metadata": {},
   "source": [
    "Set working directory"
   ]
  },
  {
   "cell_type": "code",
   "execution_count": 3,
   "id": "e95dbaf4",
   "metadata": {},
   "outputs": [
    {
     "name": "stdout",
     "output_type": "stream",
     "text": [
      "You set a new current directory\n"
     ]
    },
    {
     "data": {
      "text/plain": [
       "'/workspaces/Animal_detection_camera'"
      ]
     },
     "execution_count": 3,
     "metadata": {},
     "output_type": "execute_result"
    }
   ],
   "source": [
    "cwd = os.getcwd()\n",
    "os.chdir('/workspaces/Animal_detection_camera')\n",
    "print(\"You set a new current directory\")\n",
    "\n",
    "work_dir = os.getcwd()\n",
    "work_dir"
   ]
  },
  {
   "cell_type": "markdown",
   "id": "8a68ef19",
   "metadata": {},
   "source": [
    "### Set input directories\n",
    "* Set train, test, and validation paths."
   ]
  },
  {
   "cell_type": "code",
   "execution_count": 4,
   "id": "f257abb2",
   "metadata": {},
   "outputs": [],
   "source": [
    "my_data_dir = 'inputs/datasets/animals/image'\n",
    "train_path = my_data_dir + '/train'\n",
    "val_path = my_data_dir + '/validation'\n",
    "test_path = my_data_dir + '/test'"
   ]
  },
  {
   "cell_type": "markdown",
   "id": "a97ceabd",
   "metadata": {},
   "source": [
    "### Set output directory"
   ]
  },
  {
   "cell_type": "code",
   "execution_count": 5,
   "id": "fd597a5d",
   "metadata": {},
   "outputs": [],
   "source": [
    "version = 'v1'\n",
    "file_path = f'outputs/{version}'\n",
    "\n",
    "if 'outputs' in os.listdir(work_dir) and version in os.listdir(work_dir + '/outputs'):\n",
    "    print('Old version is already available, create a new version.')\n",
    "    pass\n",
    "else:\n",
    "    os.makedirs(name=file_path)\n"
   ]
  },
  {
   "cell_type": "markdown",
   "id": "63f21b5c",
   "metadata": {},
   "source": [
    "### Set Species labels"
   ]
  },
  {
   "cell_type": "code",
   "execution_count": 6,
   "id": "40de2b14",
   "metadata": {},
   "outputs": [
    {
     "name": "stdout",
     "output_type": "stream",
     "text": [
      "Labels for the images are: ['lemur', 'snake', 'elephant', 'frog', 'chimpanzee', 'chinchilla', 'flamingo', 'mongoose', 'ostrich', 'ferret', 'camel', 'bee', 'mole', 'penguin', 'leopard', 'hawk', 'hedgehog', 'walrus', 'falcon', 'grasshopper', 'beaver', 'antelope', 'giraffe', 'duck', 'lizard', 'crab', 'goose', 'gorilla', 'jaguar', 'sheep', 'lynx', 'butterfly', 'panda', 'goat', 'deer', 'peacock', 'dog', 'whale', 'kangaroo', 'seal', 'cheetah', 'cow', 'iguana', 'hippopotamus', 'fox', 'cat', 'donkey', 'raccoon', 'blackbird', 'buffalo', 'koala', 'crocodile', 'dolphin', 'hyena', 'porcupine', 'bear', 'squid', 'spider', 'eagle', 'bison', 'owl', 'otter', 'snail', 'wolf']\n"
     ]
    }
   ],
   "source": [
    "labels = os.listdir(train_path)\n",
    "print('Labels for the images are:', labels)"
   ]
  }
 ],
 "metadata": {
  "kernelspec": {
   "display_name": "3.12.1",
   "language": "python",
   "name": "python3"
  },
  "language_info": {
   "codemirror_mode": {
    "name": "ipython",
    "version": 3
   },
   "file_extension": ".py",
   "mimetype": "text/x-python",
   "name": "python",
   "nbconvert_exporter": "python",
   "pygments_lexer": "ipython3",
   "version": "3.12.1"
  }
 },
 "nbformat": 4,
 "nbformat_minor": 5
}
